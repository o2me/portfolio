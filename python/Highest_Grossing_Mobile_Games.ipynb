{
  "nbformat": 4,
  "nbformat_minor": 0,
  "metadata": {
    "colab": {
      "provenance": []
    },
    "kernelspec": {
      "name": "python3",
      "display_name": "Python 3"
    },
    "language_info": {
      "name": "python"
    }
  },
  "cells": [
    {
      "cell_type": "markdown",
      "source": [
        "#Самые прибыльные мобильные игры\n",
        "\n"
      ],
      "metadata": {
        "id": "YOeu1r1zLVoU"
      }
    },
    {
      "cell_type": "markdown",
      "source": [
        "Это набор данных о мобильных видеоиграх, валовой доход которых составил не менее 100 миллионов долларов. \n",
        "\n",
        "Из АД мы узнаем:\n",
        "* TOP-5 игр по выручке\n",
        "* Сколько \"стоит\" каждый жанр\n",
        "* Какой год является самым прибыльным \n",
        "* В каком году было больше всего релизов\n",
        "\n",
        "Табличные данные включают:\n",
        "* `Game` - Игра\n",
        "\n",
        "* `Revenue` - Доход\n",
        "\n",
        "* `Initial release` - Первоначальный релиз\n",
        "\n",
        "* `Publisher(s)` - Издатель(и)\n",
        "\n",
        "* `Genre(s)` - Жанр(ы)"
      ],
      "metadata": {
        "id": "SY6Zu6H4LRFg"
      }
    },
    {
      "cell_type": "markdown",
      "source": [
        "#Загрузка данных"
      ],
      "metadata": {
        "id": "vNntyN0fMTuo"
      }
    },
    {
      "cell_type": "markdown",
      "source": [
        "Импортируем библитотеки и предосталавенный нам файл real_estate_data.csv"
      ],
      "metadata": {
        "id": "uDStF28EMIzJ"
      }
    },
    {
      "cell_type": "markdown",
      "source": [
        "https://drive.google.com/file/d/1RXdwFJgpJCi25LR44vC9I9ZbY0dfwzM-/view?usp=share_link"
      ],
      "metadata": {
        "id": "uCQOKEEaNE1v"
      }
    },
    {
      "cell_type": "code",
      "execution_count": 1,
      "metadata": {
        "colab": {
          "base_uri": "https://localhost:8080/"
        },
        "id": "769Rb93_KFKX",
        "outputId": "a60c2812-0217-4bec-dce0-0a127206e92f"
      },
      "outputs": [
        {
          "output_type": "stream",
          "name": "stdout",
          "text": [
            "/usr/local/lib/python3.8/dist-packages/gdown/cli.py:127: FutureWarning: Option `--id` was deprecated in version 4.3.1 and will be removed in 5.0. You don't need to pass it anymore to use a file ID.\n",
            "  warnings.warn(\n",
            "Downloading...\n",
            "From: https://drive.google.com/uc?id=1RXdwFJgpJCi25LR44vC9I9ZbY0dfwzM-\n",
            "To: /content/mobile-games.csv\n",
            "100% 7.11k/7.11k [00:00<00:00, 9.16MB/s]\n"
          ]
        }
      ],
      "source": [
        "! gdown --id 1RXdwFJgpJCi25LR44vC9I9ZbY0dfwzM-"
      ]
    },
    {
      "cell_type": "code",
      "source": [
        "import pandas as pd\n",
        "import matplotlib.pyplot as plt\n",
        "plt.style.use('dark_background')"
      ],
      "metadata": {
        "id": "2mCGcIkEMrPP"
      },
      "execution_count": 2,
      "outputs": []
    },
    {
      "cell_type": "code",
      "source": [
        "df = pd.read_csv('/content/mobile-games.csv')"
      ],
      "metadata": {
        "id": "7-yAyAO9MrzZ"
      },
      "execution_count": 3,
      "outputs": []
    },
    {
      "cell_type": "markdown",
      "source": [
        "Для начала ознакомимся с данными"
      ],
      "metadata": {
        "id": "q2QT4HWBOU9T"
      }
    },
    {
      "cell_type": "code",
      "source": [
        "df.head(10)"
      ],
      "metadata": {
        "colab": {
          "base_uri": "https://localhost:8080/",
          "height": 363
        },
        "id": "mza49UBBNlqw",
        "outputId": "ff1f2428-8ae6-43af-84f7-786c6deeb60f"
      },
      "execution_count": 4,
      "outputs": [
        {
          "output_type": "execute_result",
          "data": {
            "text/plain": [
              "                              Game      Revenue Initial release  \\\n",
              "0  Honor of Kings / Arena of Valor  14667500000      2015-11-26   \n",
              "1                   Monster Strike  10000000000      2013-08-08   \n",
              "2                      PUBG Mobile   9000000000      2018-03-19   \n",
              "3                 Puzzle & Dragons   8578340000      2012-02-20   \n",
              "4                   Clash of Clans   8000000000      2012-08-02   \n",
              "5                       Pokémon Go   7760000000      2016-07-06   \n",
              "6                 Candy Crush Saga   7456000000      2012-11-14   \n",
              "7                 Fate/Grand Order   6300000000      2015-07-30   \n",
              "8         Fantasy Westward Journey   4700000000      2015-03-26   \n",
              "9                 Garena Free Fire   4330000000      2017-12-04   \n",
              "\n",
              "                               Publisher(s)                 Genre(s)  \n",
              "0                             Tencent Games                     MOBA  \n",
              "1                                      Mixi  Puzzle / RPG / Strategy  \n",
              "2       Tencent Games / Krafton / VNG Games            Battle royale  \n",
              "3               GungHo Online Entertainment             RPG / Puzzle  \n",
              "4                       Supercell (Tencent)                 Strategy  \n",
              "5             Niantic / The Pokémon Company        Augmented reality  \n",
              "6                King (Activision Blizzard)                   Puzzle  \n",
              "7  Aniplex (Sony Music Entertainment Japan)                      RPG  \n",
              "8                                   NetEase                   MMORPG  \n",
              "9                                    Garena            Battle royale  "
            ],
            "text/html": [
              "\n",
              "  <div id=\"df-5ad184b8-e44c-45ca-99c8-d2335c53d8ef\">\n",
              "    <div class=\"colab-df-container\">\n",
              "      <div>\n",
              "<style scoped>\n",
              "    .dataframe tbody tr th:only-of-type {\n",
              "        vertical-align: middle;\n",
              "    }\n",
              "\n",
              "    .dataframe tbody tr th {\n",
              "        vertical-align: top;\n",
              "    }\n",
              "\n",
              "    .dataframe thead th {\n",
              "        text-align: right;\n",
              "    }\n",
              "</style>\n",
              "<table border=\"1\" class=\"dataframe\">\n",
              "  <thead>\n",
              "    <tr style=\"text-align: right;\">\n",
              "      <th></th>\n",
              "      <th>Game</th>\n",
              "      <th>Revenue</th>\n",
              "      <th>Initial release</th>\n",
              "      <th>Publisher(s)</th>\n",
              "      <th>Genre(s)</th>\n",
              "    </tr>\n",
              "  </thead>\n",
              "  <tbody>\n",
              "    <tr>\n",
              "      <th>0</th>\n",
              "      <td>Honor of Kings / Arena of Valor</td>\n",
              "      <td>14667500000</td>\n",
              "      <td>2015-11-26</td>\n",
              "      <td>Tencent Games</td>\n",
              "      <td>MOBA</td>\n",
              "    </tr>\n",
              "    <tr>\n",
              "      <th>1</th>\n",
              "      <td>Monster Strike</td>\n",
              "      <td>10000000000</td>\n",
              "      <td>2013-08-08</td>\n",
              "      <td>Mixi</td>\n",
              "      <td>Puzzle / RPG / Strategy</td>\n",
              "    </tr>\n",
              "    <tr>\n",
              "      <th>2</th>\n",
              "      <td>PUBG Mobile</td>\n",
              "      <td>9000000000</td>\n",
              "      <td>2018-03-19</td>\n",
              "      <td>Tencent Games / Krafton / VNG Games</td>\n",
              "      <td>Battle royale</td>\n",
              "    </tr>\n",
              "    <tr>\n",
              "      <th>3</th>\n",
              "      <td>Puzzle &amp; Dragons</td>\n",
              "      <td>8578340000</td>\n",
              "      <td>2012-02-20</td>\n",
              "      <td>GungHo Online Entertainment</td>\n",
              "      <td>RPG / Puzzle</td>\n",
              "    </tr>\n",
              "    <tr>\n",
              "      <th>4</th>\n",
              "      <td>Clash of Clans</td>\n",
              "      <td>8000000000</td>\n",
              "      <td>2012-08-02</td>\n",
              "      <td>Supercell (Tencent)</td>\n",
              "      <td>Strategy</td>\n",
              "    </tr>\n",
              "    <tr>\n",
              "      <th>5</th>\n",
              "      <td>Pokémon Go</td>\n",
              "      <td>7760000000</td>\n",
              "      <td>2016-07-06</td>\n",
              "      <td>Niantic / The Pokémon Company</td>\n",
              "      <td>Augmented reality</td>\n",
              "    </tr>\n",
              "    <tr>\n",
              "      <th>6</th>\n",
              "      <td>Candy Crush Saga</td>\n",
              "      <td>7456000000</td>\n",
              "      <td>2012-11-14</td>\n",
              "      <td>King (Activision Blizzard)</td>\n",
              "      <td>Puzzle</td>\n",
              "    </tr>\n",
              "    <tr>\n",
              "      <th>7</th>\n",
              "      <td>Fate/Grand Order</td>\n",
              "      <td>6300000000</td>\n",
              "      <td>2015-07-30</td>\n",
              "      <td>Aniplex (Sony Music Entertainment Japan)</td>\n",
              "      <td>RPG</td>\n",
              "    </tr>\n",
              "    <tr>\n",
              "      <th>8</th>\n",
              "      <td>Fantasy Westward Journey</td>\n",
              "      <td>4700000000</td>\n",
              "      <td>2015-03-26</td>\n",
              "      <td>NetEase</td>\n",
              "      <td>MMORPG</td>\n",
              "    </tr>\n",
              "    <tr>\n",
              "      <th>9</th>\n",
              "      <td>Garena Free Fire</td>\n",
              "      <td>4330000000</td>\n",
              "      <td>2017-12-04</td>\n",
              "      <td>Garena</td>\n",
              "      <td>Battle royale</td>\n",
              "    </tr>\n",
              "  </tbody>\n",
              "</table>\n",
              "</div>\n",
              "      <button class=\"colab-df-convert\" onclick=\"convertToInteractive('df-5ad184b8-e44c-45ca-99c8-d2335c53d8ef')\"\n",
              "              title=\"Convert this dataframe to an interactive table.\"\n",
              "              style=\"display:none;\">\n",
              "        \n",
              "  <svg xmlns=\"http://www.w3.org/2000/svg\" height=\"24px\"viewBox=\"0 0 24 24\"\n",
              "       width=\"24px\">\n",
              "    <path d=\"M0 0h24v24H0V0z\" fill=\"none\"/>\n",
              "    <path d=\"M18.56 5.44l.94 2.06.94-2.06 2.06-.94-2.06-.94-.94-2.06-.94 2.06-2.06.94zm-11 1L8.5 8.5l.94-2.06 2.06-.94-2.06-.94L8.5 2.5l-.94 2.06-2.06.94zm10 10l.94 2.06.94-2.06 2.06-.94-2.06-.94-.94-2.06-.94 2.06-2.06.94z\"/><path d=\"M17.41 7.96l-1.37-1.37c-.4-.4-.92-.59-1.43-.59-.52 0-1.04.2-1.43.59L10.3 9.45l-7.72 7.72c-.78.78-.78 2.05 0 2.83L4 21.41c.39.39.9.59 1.41.59.51 0 1.02-.2 1.41-.59l7.78-7.78 2.81-2.81c.8-.78.8-2.07 0-2.86zM5.41 20L4 18.59l7.72-7.72 1.47 1.35L5.41 20z\"/>\n",
              "  </svg>\n",
              "      </button>\n",
              "      \n",
              "  <style>\n",
              "    .colab-df-container {\n",
              "      display:flex;\n",
              "      flex-wrap:wrap;\n",
              "      gap: 12px;\n",
              "    }\n",
              "\n",
              "    .colab-df-convert {\n",
              "      background-color: #E8F0FE;\n",
              "      border: none;\n",
              "      border-radius: 50%;\n",
              "      cursor: pointer;\n",
              "      display: none;\n",
              "      fill: #1967D2;\n",
              "      height: 32px;\n",
              "      padding: 0 0 0 0;\n",
              "      width: 32px;\n",
              "    }\n",
              "\n",
              "    .colab-df-convert:hover {\n",
              "      background-color: #E2EBFA;\n",
              "      box-shadow: 0px 1px 2px rgba(60, 64, 67, 0.3), 0px 1px 3px 1px rgba(60, 64, 67, 0.15);\n",
              "      fill: #174EA6;\n",
              "    }\n",
              "\n",
              "    [theme=dark] .colab-df-convert {\n",
              "      background-color: #3B4455;\n",
              "      fill: #D2E3FC;\n",
              "    }\n",
              "\n",
              "    [theme=dark] .colab-df-convert:hover {\n",
              "      background-color: #434B5C;\n",
              "      box-shadow: 0px 1px 3px 1px rgba(0, 0, 0, 0.15);\n",
              "      filter: drop-shadow(0px 1px 2px rgba(0, 0, 0, 0.3));\n",
              "      fill: #FFFFFF;\n",
              "    }\n",
              "  </style>\n",
              "\n",
              "      <script>\n",
              "        const buttonEl =\n",
              "          document.querySelector('#df-5ad184b8-e44c-45ca-99c8-d2335c53d8ef button.colab-df-convert');\n",
              "        buttonEl.style.display =\n",
              "          google.colab.kernel.accessAllowed ? 'block' : 'none';\n",
              "\n",
              "        async function convertToInteractive(key) {\n",
              "          const element = document.querySelector('#df-5ad184b8-e44c-45ca-99c8-d2335c53d8ef');\n",
              "          const dataTable =\n",
              "            await google.colab.kernel.invokeFunction('convertToInteractive',\n",
              "                                                     [key], {});\n",
              "          if (!dataTable) return;\n",
              "\n",
              "          const docLinkHtml = 'Like what you see? Visit the ' +\n",
              "            '<a target=\"_blank\" href=https://colab.research.google.com/notebooks/data_table.ipynb>data table notebook</a>'\n",
              "            + ' to learn more about interactive tables.';\n",
              "          element.innerHTML = '';\n",
              "          dataTable['output_type'] = 'display_data';\n",
              "          await google.colab.output.renderOutput(dataTable, element);\n",
              "          const docLink = document.createElement('div');\n",
              "          docLink.innerHTML = docLinkHtml;\n",
              "          element.appendChild(docLink);\n",
              "        }\n",
              "      </script>\n",
              "    </div>\n",
              "  </div>\n",
              "  "
            ]
          },
          "metadata": {},
          "execution_count": 4
        }
      ]
    },
    {
      "cell_type": "code",
      "source": [
        "df.info()"
      ],
      "metadata": {
        "colab": {
          "base_uri": "https://localhost:8080/"
        },
        "id": "JXcmjkjTOQNT",
        "outputId": "8a1e787e-9dc0-4e34-9b7c-6cdbf7ce9380"
      },
      "execution_count": 5,
      "outputs": [
        {
          "output_type": "stream",
          "name": "stdout",
          "text": [
            "<class 'pandas.core.frame.DataFrame'>\n",
            "RangeIndex: 104 entries, 0 to 103\n",
            "Data columns (total 5 columns):\n",
            " #   Column           Non-Null Count  Dtype \n",
            "---  ------           --------------  ----- \n",
            " 0   Game             104 non-null    object\n",
            " 1   Revenue          104 non-null    int64 \n",
            " 2   Initial release  104 non-null    object\n",
            " 3   Publisher(s)     104 non-null    object\n",
            " 4   Genre(s)         104 non-null    object\n",
            "dtypes: int64(1), object(4)\n",
            "memory usage: 4.2+ KB\n"
          ]
        }
      ]
    },
    {
      "cell_type": "code",
      "source": [
        "df.describe()"
      ],
      "metadata": {
        "colab": {
          "base_uri": "https://localhost:8080/",
          "height": 300
        },
        "id": "Z_4YJOEdfBEr",
        "outputId": "b39e0524-7924-42a1-93df-0770faf9ea13"
      },
      "execution_count": 43,
      "outputs": [
        {
          "output_type": "execute_result",
          "data": {
            "text/plain": [
              "            revenue\n",
              "count  1.040000e+02\n",
              "mean   1.617105e+09\n",
              "std    2.454735e+09\n",
              "min    1.000000e+08\n",
              "25%    2.407500e+08\n",
              "50%    7.426000e+08\n",
              "75%    1.525000e+09\n",
              "max    1.466750e+10"
            ],
            "text/html": [
              "\n",
              "  <div id=\"df-5b54c9c6-15ec-4240-8f5b-57eb8cec4243\">\n",
              "    <div class=\"colab-df-container\">\n",
              "      <div>\n",
              "<style scoped>\n",
              "    .dataframe tbody tr th:only-of-type {\n",
              "        vertical-align: middle;\n",
              "    }\n",
              "\n",
              "    .dataframe tbody tr th {\n",
              "        vertical-align: top;\n",
              "    }\n",
              "\n",
              "    .dataframe thead th {\n",
              "        text-align: right;\n",
              "    }\n",
              "</style>\n",
              "<table border=\"1\" class=\"dataframe\">\n",
              "  <thead>\n",
              "    <tr style=\"text-align: right;\">\n",
              "      <th></th>\n",
              "      <th>revenue</th>\n",
              "    </tr>\n",
              "  </thead>\n",
              "  <tbody>\n",
              "    <tr>\n",
              "      <th>count</th>\n",
              "      <td>1.040000e+02</td>\n",
              "    </tr>\n",
              "    <tr>\n",
              "      <th>mean</th>\n",
              "      <td>1.617105e+09</td>\n",
              "    </tr>\n",
              "    <tr>\n",
              "      <th>std</th>\n",
              "      <td>2.454735e+09</td>\n",
              "    </tr>\n",
              "    <tr>\n",
              "      <th>min</th>\n",
              "      <td>1.000000e+08</td>\n",
              "    </tr>\n",
              "    <tr>\n",
              "      <th>25%</th>\n",
              "      <td>2.407500e+08</td>\n",
              "    </tr>\n",
              "    <tr>\n",
              "      <th>50%</th>\n",
              "      <td>7.426000e+08</td>\n",
              "    </tr>\n",
              "    <tr>\n",
              "      <th>75%</th>\n",
              "      <td>1.525000e+09</td>\n",
              "    </tr>\n",
              "    <tr>\n",
              "      <th>max</th>\n",
              "      <td>1.466750e+10</td>\n",
              "    </tr>\n",
              "  </tbody>\n",
              "</table>\n",
              "</div>\n",
              "      <button class=\"colab-df-convert\" onclick=\"convertToInteractive('df-5b54c9c6-15ec-4240-8f5b-57eb8cec4243')\"\n",
              "              title=\"Convert this dataframe to an interactive table.\"\n",
              "              style=\"display:none;\">\n",
              "        \n",
              "  <svg xmlns=\"http://www.w3.org/2000/svg\" height=\"24px\"viewBox=\"0 0 24 24\"\n",
              "       width=\"24px\">\n",
              "    <path d=\"M0 0h24v24H0V0z\" fill=\"none\"/>\n",
              "    <path d=\"M18.56 5.44l.94 2.06.94-2.06 2.06-.94-2.06-.94-.94-2.06-.94 2.06-2.06.94zm-11 1L8.5 8.5l.94-2.06 2.06-.94-2.06-.94L8.5 2.5l-.94 2.06-2.06.94zm10 10l.94 2.06.94-2.06 2.06-.94-2.06-.94-.94-2.06-.94 2.06-2.06.94z\"/><path d=\"M17.41 7.96l-1.37-1.37c-.4-.4-.92-.59-1.43-.59-.52 0-1.04.2-1.43.59L10.3 9.45l-7.72 7.72c-.78.78-.78 2.05 0 2.83L4 21.41c.39.39.9.59 1.41.59.51 0 1.02-.2 1.41-.59l7.78-7.78 2.81-2.81c.8-.78.8-2.07 0-2.86zM5.41 20L4 18.59l7.72-7.72 1.47 1.35L5.41 20z\"/>\n",
              "  </svg>\n",
              "      </button>\n",
              "      \n",
              "  <style>\n",
              "    .colab-df-container {\n",
              "      display:flex;\n",
              "      flex-wrap:wrap;\n",
              "      gap: 12px;\n",
              "    }\n",
              "\n",
              "    .colab-df-convert {\n",
              "      background-color: #E8F0FE;\n",
              "      border: none;\n",
              "      border-radius: 50%;\n",
              "      cursor: pointer;\n",
              "      display: none;\n",
              "      fill: #1967D2;\n",
              "      height: 32px;\n",
              "      padding: 0 0 0 0;\n",
              "      width: 32px;\n",
              "    }\n",
              "\n",
              "    .colab-df-convert:hover {\n",
              "      background-color: #E2EBFA;\n",
              "      box-shadow: 0px 1px 2px rgba(60, 64, 67, 0.3), 0px 1px 3px 1px rgba(60, 64, 67, 0.15);\n",
              "      fill: #174EA6;\n",
              "    }\n",
              "\n",
              "    [theme=dark] .colab-df-convert {\n",
              "      background-color: #3B4455;\n",
              "      fill: #D2E3FC;\n",
              "    }\n",
              "\n",
              "    [theme=dark] .colab-df-convert:hover {\n",
              "      background-color: #434B5C;\n",
              "      box-shadow: 0px 1px 3px 1px rgba(0, 0, 0, 0.15);\n",
              "      filter: drop-shadow(0px 1px 2px rgba(0, 0, 0, 0.3));\n",
              "      fill: #FFFFFF;\n",
              "    }\n",
              "  </style>\n",
              "\n",
              "      <script>\n",
              "        const buttonEl =\n",
              "          document.querySelector('#df-5b54c9c6-15ec-4240-8f5b-57eb8cec4243 button.colab-df-convert');\n",
              "        buttonEl.style.display =\n",
              "          google.colab.kernel.accessAllowed ? 'block' : 'none';\n",
              "\n",
              "        async function convertToInteractive(key) {\n",
              "          const element = document.querySelector('#df-5b54c9c6-15ec-4240-8f5b-57eb8cec4243');\n",
              "          const dataTable =\n",
              "            await google.colab.kernel.invokeFunction('convertToInteractive',\n",
              "                                                     [key], {});\n",
              "          if (!dataTable) return;\n",
              "\n",
              "          const docLinkHtml = 'Like what you see? Visit the ' +\n",
              "            '<a target=\"_blank\" href=https://colab.research.google.com/notebooks/data_table.ipynb>data table notebook</a>'\n",
              "            + ' to learn more about interactive tables.';\n",
              "          element.innerHTML = '';\n",
              "          dataTable['output_type'] = 'display_data';\n",
              "          await google.colab.output.renderOutput(dataTable, element);\n",
              "          const docLink = document.createElement('div');\n",
              "          docLink.innerHTML = docLinkHtml;\n",
              "          element.appendChild(docLink);\n",
              "        }\n",
              "      </script>\n",
              "    </div>\n",
              "  </div>\n",
              "  "
            ]
          },
          "metadata": {},
          "execution_count": 43
        }
      ]
    },
    {
      "cell_type": "markdown",
      "source": [
        "Имеем 104 строки и 5 колонок. Пропусков нету.\n",
        "\n",
        "Исправим название колонок.\n"
      ],
      "metadata": {
        "id": "gtwKwh6pOden"
      }
    },
    {
      "cell_type": "code",
      "source": [
        "df = df.rename(columns={\"Game\": \"game\", \"Revenue\": \"revenue\", \n",
        "                        \"Initial release\": \"initial_release\", \n",
        "                        \"Publisher(s)\": \"publisher\",\n",
        "                        \"Genre(s)\": \"genre\"})"
      ],
      "metadata": {
        "id": "4kgkcO9SO20E"
      },
      "execution_count": 6,
      "outputs": []
    },
    {
      "cell_type": "code",
      "source": [
        "df.info()"
      ],
      "metadata": {
        "colab": {
          "base_uri": "https://localhost:8080/"
        },
        "id": "ruoxM22nPfkZ",
        "outputId": "4c9c8162-c0ea-47d4-845b-20e468f9d0ce"
      },
      "execution_count": 7,
      "outputs": [
        {
          "output_type": "stream",
          "name": "stdout",
          "text": [
            "<class 'pandas.core.frame.DataFrame'>\n",
            "RangeIndex: 104 entries, 0 to 103\n",
            "Data columns (total 5 columns):\n",
            " #   Column           Non-Null Count  Dtype \n",
            "---  ------           --------------  ----- \n",
            " 0   game             104 non-null    object\n",
            " 1   revenue          104 non-null    int64 \n",
            " 2   initial_release  104 non-null    object\n",
            " 3   publisher        104 non-null    object\n",
            " 4   genre            104 non-null    object\n",
            "dtypes: int64(1), object(4)\n",
            "memory usage: 4.2+ KB\n"
          ]
        }
      ]
    },
    {
      "cell_type": "markdown",
      "source": [
        "`initial_release` переведем в формат даты (год-месяц-число)"
      ],
      "metadata": {
        "id": "w69xUo0ZQaDu"
      }
    },
    {
      "cell_type": "code",
      "source": [
        "df[\"initial_release\"] = pd.to_datetime(df[\"initial_release\"], format=\"%Y-%m-%d\")\n",
        "df.head()"
      ],
      "metadata": {
        "colab": {
          "base_uri": "https://localhost:8080/",
          "height": 206
        },
        "id": "VjHjQ87GQj8E",
        "outputId": "c0cbc544-fec1-4ce9-ef5c-728358f1dd43"
      },
      "execution_count": 8,
      "outputs": [
        {
          "output_type": "execute_result",
          "data": {
            "text/plain": [
              "                              game      revenue initial_release  \\\n",
              "0  Honor of Kings / Arena of Valor  14667500000      2015-11-26   \n",
              "1                   Monster Strike  10000000000      2013-08-08   \n",
              "2                      PUBG Mobile   9000000000      2018-03-19   \n",
              "3                 Puzzle & Dragons   8578340000      2012-02-20   \n",
              "4                   Clash of Clans   8000000000      2012-08-02   \n",
              "\n",
              "                             publisher                    genre  \n",
              "0                        Tencent Games                     MOBA  \n",
              "1                                 Mixi  Puzzle / RPG / Strategy  \n",
              "2  Tencent Games / Krafton / VNG Games            Battle royale  \n",
              "3          GungHo Online Entertainment             RPG / Puzzle  \n",
              "4                  Supercell (Tencent)                 Strategy  "
            ],
            "text/html": [
              "\n",
              "  <div id=\"df-b0936c6e-cb04-45a1-bbe6-a05ae9ad1bc9\">\n",
              "    <div class=\"colab-df-container\">\n",
              "      <div>\n",
              "<style scoped>\n",
              "    .dataframe tbody tr th:only-of-type {\n",
              "        vertical-align: middle;\n",
              "    }\n",
              "\n",
              "    .dataframe tbody tr th {\n",
              "        vertical-align: top;\n",
              "    }\n",
              "\n",
              "    .dataframe thead th {\n",
              "        text-align: right;\n",
              "    }\n",
              "</style>\n",
              "<table border=\"1\" class=\"dataframe\">\n",
              "  <thead>\n",
              "    <tr style=\"text-align: right;\">\n",
              "      <th></th>\n",
              "      <th>game</th>\n",
              "      <th>revenue</th>\n",
              "      <th>initial_release</th>\n",
              "      <th>publisher</th>\n",
              "      <th>genre</th>\n",
              "    </tr>\n",
              "  </thead>\n",
              "  <tbody>\n",
              "    <tr>\n",
              "      <th>0</th>\n",
              "      <td>Honor of Kings / Arena of Valor</td>\n",
              "      <td>14667500000</td>\n",
              "      <td>2015-11-26</td>\n",
              "      <td>Tencent Games</td>\n",
              "      <td>MOBA</td>\n",
              "    </tr>\n",
              "    <tr>\n",
              "      <th>1</th>\n",
              "      <td>Monster Strike</td>\n",
              "      <td>10000000000</td>\n",
              "      <td>2013-08-08</td>\n",
              "      <td>Mixi</td>\n",
              "      <td>Puzzle / RPG / Strategy</td>\n",
              "    </tr>\n",
              "    <tr>\n",
              "      <th>2</th>\n",
              "      <td>PUBG Mobile</td>\n",
              "      <td>9000000000</td>\n",
              "      <td>2018-03-19</td>\n",
              "      <td>Tencent Games / Krafton / VNG Games</td>\n",
              "      <td>Battle royale</td>\n",
              "    </tr>\n",
              "    <tr>\n",
              "      <th>3</th>\n",
              "      <td>Puzzle &amp; Dragons</td>\n",
              "      <td>8578340000</td>\n",
              "      <td>2012-02-20</td>\n",
              "      <td>GungHo Online Entertainment</td>\n",
              "      <td>RPG / Puzzle</td>\n",
              "    </tr>\n",
              "    <tr>\n",
              "      <th>4</th>\n",
              "      <td>Clash of Clans</td>\n",
              "      <td>8000000000</td>\n",
              "      <td>2012-08-02</td>\n",
              "      <td>Supercell (Tencent)</td>\n",
              "      <td>Strategy</td>\n",
              "    </tr>\n",
              "  </tbody>\n",
              "</table>\n",
              "</div>\n",
              "      <button class=\"colab-df-convert\" onclick=\"convertToInteractive('df-b0936c6e-cb04-45a1-bbe6-a05ae9ad1bc9')\"\n",
              "              title=\"Convert this dataframe to an interactive table.\"\n",
              "              style=\"display:none;\">\n",
              "        \n",
              "  <svg xmlns=\"http://www.w3.org/2000/svg\" height=\"24px\"viewBox=\"0 0 24 24\"\n",
              "       width=\"24px\">\n",
              "    <path d=\"M0 0h24v24H0V0z\" fill=\"none\"/>\n",
              "    <path d=\"M18.56 5.44l.94 2.06.94-2.06 2.06-.94-2.06-.94-.94-2.06-.94 2.06-2.06.94zm-11 1L8.5 8.5l.94-2.06 2.06-.94-2.06-.94L8.5 2.5l-.94 2.06-2.06.94zm10 10l.94 2.06.94-2.06 2.06-.94-2.06-.94-.94-2.06-.94 2.06-2.06.94z\"/><path d=\"M17.41 7.96l-1.37-1.37c-.4-.4-.92-.59-1.43-.59-.52 0-1.04.2-1.43.59L10.3 9.45l-7.72 7.72c-.78.78-.78 2.05 0 2.83L4 21.41c.39.39.9.59 1.41.59.51 0 1.02-.2 1.41-.59l7.78-7.78 2.81-2.81c.8-.78.8-2.07 0-2.86zM5.41 20L4 18.59l7.72-7.72 1.47 1.35L5.41 20z\"/>\n",
              "  </svg>\n",
              "      </button>\n",
              "      \n",
              "  <style>\n",
              "    .colab-df-container {\n",
              "      display:flex;\n",
              "      flex-wrap:wrap;\n",
              "      gap: 12px;\n",
              "    }\n",
              "\n",
              "    .colab-df-convert {\n",
              "      background-color: #E8F0FE;\n",
              "      border: none;\n",
              "      border-radius: 50%;\n",
              "      cursor: pointer;\n",
              "      display: none;\n",
              "      fill: #1967D2;\n",
              "      height: 32px;\n",
              "      padding: 0 0 0 0;\n",
              "      width: 32px;\n",
              "    }\n",
              "\n",
              "    .colab-df-convert:hover {\n",
              "      background-color: #E2EBFA;\n",
              "      box-shadow: 0px 1px 2px rgba(60, 64, 67, 0.3), 0px 1px 3px 1px rgba(60, 64, 67, 0.15);\n",
              "      fill: #174EA6;\n",
              "    }\n",
              "\n",
              "    [theme=dark] .colab-df-convert {\n",
              "      background-color: #3B4455;\n",
              "      fill: #D2E3FC;\n",
              "    }\n",
              "\n",
              "    [theme=dark] .colab-df-convert:hover {\n",
              "      background-color: #434B5C;\n",
              "      box-shadow: 0px 1px 3px 1px rgba(0, 0, 0, 0.15);\n",
              "      filter: drop-shadow(0px 1px 2px rgba(0, 0, 0, 0.3));\n",
              "      fill: #FFFFFF;\n",
              "    }\n",
              "  </style>\n",
              "\n",
              "      <script>\n",
              "        const buttonEl =\n",
              "          document.querySelector('#df-b0936c6e-cb04-45a1-bbe6-a05ae9ad1bc9 button.colab-df-convert');\n",
              "        buttonEl.style.display =\n",
              "          google.colab.kernel.accessAllowed ? 'block' : 'none';\n",
              "\n",
              "        async function convertToInteractive(key) {\n",
              "          const element = document.querySelector('#df-b0936c6e-cb04-45a1-bbe6-a05ae9ad1bc9');\n",
              "          const dataTable =\n",
              "            await google.colab.kernel.invokeFunction('convertToInteractive',\n",
              "                                                     [key], {});\n",
              "          if (!dataTable) return;\n",
              "\n",
              "          const docLinkHtml = 'Like what you see? Visit the ' +\n",
              "            '<a target=\"_blank\" href=https://colab.research.google.com/notebooks/data_table.ipynb>data table notebook</a>'\n",
              "            + ' to learn more about interactive tables.';\n",
              "          element.innerHTML = '';\n",
              "          dataTable['output_type'] = 'display_data';\n",
              "          await google.colab.output.renderOutput(dataTable, element);\n",
              "          const docLink = document.createElement('div');\n",
              "          docLink.innerHTML = docLinkHtml;\n",
              "          element.appendChild(docLink);\n",
              "        }\n",
              "      </script>\n",
              "    </div>\n",
              "  </div>\n",
              "  "
            ]
          },
          "metadata": {},
          "execution_count": 8
        }
      ]
    },
    {
      "cell_type": "markdown",
      "source": [
        "**TOP-5 игр по выручке**"
      ],
      "metadata": {
        "id": "rvznG5eVSnFq"
      }
    },
    {
      "cell_type": "code",
      "source": [
        "df.sort_values(\"revenue\", ascending=False).head(5)"
      ],
      "metadata": {
        "colab": {
          "base_uri": "https://localhost:8080/",
          "height": 206
        },
        "id": "NytBmvXyTbUR",
        "outputId": "34f2cdda-e8a7-4b12-9013-880517a13299"
      },
      "execution_count": 9,
      "outputs": [
        {
          "output_type": "execute_result",
          "data": {
            "text/plain": [
              "                              game      revenue initial_release  \\\n",
              "0  Honor of Kings / Arena of Valor  14667500000      2015-11-26   \n",
              "1                   Monster Strike  10000000000      2013-08-08   \n",
              "2                      PUBG Mobile   9000000000      2018-03-19   \n",
              "3                 Puzzle & Dragons   8578340000      2012-02-20   \n",
              "4                   Clash of Clans   8000000000      2012-08-02   \n",
              "\n",
              "                             publisher                    genre  \n",
              "0                        Tencent Games                     MOBA  \n",
              "1                                 Mixi  Puzzle / RPG / Strategy  \n",
              "2  Tencent Games / Krafton / VNG Games            Battle royale  \n",
              "3          GungHo Online Entertainment             RPG / Puzzle  \n",
              "4                  Supercell (Tencent)                 Strategy  "
            ],
            "text/html": [
              "\n",
              "  <div id=\"df-23194b44-4ce1-4a3f-b788-c87fd825cb58\">\n",
              "    <div class=\"colab-df-container\">\n",
              "      <div>\n",
              "<style scoped>\n",
              "    .dataframe tbody tr th:only-of-type {\n",
              "        vertical-align: middle;\n",
              "    }\n",
              "\n",
              "    .dataframe tbody tr th {\n",
              "        vertical-align: top;\n",
              "    }\n",
              "\n",
              "    .dataframe thead th {\n",
              "        text-align: right;\n",
              "    }\n",
              "</style>\n",
              "<table border=\"1\" class=\"dataframe\">\n",
              "  <thead>\n",
              "    <tr style=\"text-align: right;\">\n",
              "      <th></th>\n",
              "      <th>game</th>\n",
              "      <th>revenue</th>\n",
              "      <th>initial_release</th>\n",
              "      <th>publisher</th>\n",
              "      <th>genre</th>\n",
              "    </tr>\n",
              "  </thead>\n",
              "  <tbody>\n",
              "    <tr>\n",
              "      <th>0</th>\n",
              "      <td>Honor of Kings / Arena of Valor</td>\n",
              "      <td>14667500000</td>\n",
              "      <td>2015-11-26</td>\n",
              "      <td>Tencent Games</td>\n",
              "      <td>MOBA</td>\n",
              "    </tr>\n",
              "    <tr>\n",
              "      <th>1</th>\n",
              "      <td>Monster Strike</td>\n",
              "      <td>10000000000</td>\n",
              "      <td>2013-08-08</td>\n",
              "      <td>Mixi</td>\n",
              "      <td>Puzzle / RPG / Strategy</td>\n",
              "    </tr>\n",
              "    <tr>\n",
              "      <th>2</th>\n",
              "      <td>PUBG Mobile</td>\n",
              "      <td>9000000000</td>\n",
              "      <td>2018-03-19</td>\n",
              "      <td>Tencent Games / Krafton / VNG Games</td>\n",
              "      <td>Battle royale</td>\n",
              "    </tr>\n",
              "    <tr>\n",
              "      <th>3</th>\n",
              "      <td>Puzzle &amp; Dragons</td>\n",
              "      <td>8578340000</td>\n",
              "      <td>2012-02-20</td>\n",
              "      <td>GungHo Online Entertainment</td>\n",
              "      <td>RPG / Puzzle</td>\n",
              "    </tr>\n",
              "    <tr>\n",
              "      <th>4</th>\n",
              "      <td>Clash of Clans</td>\n",
              "      <td>8000000000</td>\n",
              "      <td>2012-08-02</td>\n",
              "      <td>Supercell (Tencent)</td>\n",
              "      <td>Strategy</td>\n",
              "    </tr>\n",
              "  </tbody>\n",
              "</table>\n",
              "</div>\n",
              "      <button class=\"colab-df-convert\" onclick=\"convertToInteractive('df-23194b44-4ce1-4a3f-b788-c87fd825cb58')\"\n",
              "              title=\"Convert this dataframe to an interactive table.\"\n",
              "              style=\"display:none;\">\n",
              "        \n",
              "  <svg xmlns=\"http://www.w3.org/2000/svg\" height=\"24px\"viewBox=\"0 0 24 24\"\n",
              "       width=\"24px\">\n",
              "    <path d=\"M0 0h24v24H0V0z\" fill=\"none\"/>\n",
              "    <path d=\"M18.56 5.44l.94 2.06.94-2.06 2.06-.94-2.06-.94-.94-2.06-.94 2.06-2.06.94zm-11 1L8.5 8.5l.94-2.06 2.06-.94-2.06-.94L8.5 2.5l-.94 2.06-2.06.94zm10 10l.94 2.06.94-2.06 2.06-.94-2.06-.94-.94-2.06-.94 2.06-2.06.94z\"/><path d=\"M17.41 7.96l-1.37-1.37c-.4-.4-.92-.59-1.43-.59-.52 0-1.04.2-1.43.59L10.3 9.45l-7.72 7.72c-.78.78-.78 2.05 0 2.83L4 21.41c.39.39.9.59 1.41.59.51 0 1.02-.2 1.41-.59l7.78-7.78 2.81-2.81c.8-.78.8-2.07 0-2.86zM5.41 20L4 18.59l7.72-7.72 1.47 1.35L5.41 20z\"/>\n",
              "  </svg>\n",
              "      </button>\n",
              "      \n",
              "  <style>\n",
              "    .colab-df-container {\n",
              "      display:flex;\n",
              "      flex-wrap:wrap;\n",
              "      gap: 12px;\n",
              "    }\n",
              "\n",
              "    .colab-df-convert {\n",
              "      background-color: #E8F0FE;\n",
              "      border: none;\n",
              "      border-radius: 50%;\n",
              "      cursor: pointer;\n",
              "      display: none;\n",
              "      fill: #1967D2;\n",
              "      height: 32px;\n",
              "      padding: 0 0 0 0;\n",
              "      width: 32px;\n",
              "    }\n",
              "\n",
              "    .colab-df-convert:hover {\n",
              "      background-color: #E2EBFA;\n",
              "      box-shadow: 0px 1px 2px rgba(60, 64, 67, 0.3), 0px 1px 3px 1px rgba(60, 64, 67, 0.15);\n",
              "      fill: #174EA6;\n",
              "    }\n",
              "\n",
              "    [theme=dark] .colab-df-convert {\n",
              "      background-color: #3B4455;\n",
              "      fill: #D2E3FC;\n",
              "    }\n",
              "\n",
              "    [theme=dark] .colab-df-convert:hover {\n",
              "      background-color: #434B5C;\n",
              "      box-shadow: 0px 1px 3px 1px rgba(0, 0, 0, 0.15);\n",
              "      filter: drop-shadow(0px 1px 2px rgba(0, 0, 0, 0.3));\n",
              "      fill: #FFFFFF;\n",
              "    }\n",
              "  </style>\n",
              "\n",
              "      <script>\n",
              "        const buttonEl =\n",
              "          document.querySelector('#df-23194b44-4ce1-4a3f-b788-c87fd825cb58 button.colab-df-convert');\n",
              "        buttonEl.style.display =\n",
              "          google.colab.kernel.accessAllowed ? 'block' : 'none';\n",
              "\n",
              "        async function convertToInteractive(key) {\n",
              "          const element = document.querySelector('#df-23194b44-4ce1-4a3f-b788-c87fd825cb58');\n",
              "          const dataTable =\n",
              "            await google.colab.kernel.invokeFunction('convertToInteractive',\n",
              "                                                     [key], {});\n",
              "          if (!dataTable) return;\n",
              "\n",
              "          const docLinkHtml = 'Like what you see? Visit the ' +\n",
              "            '<a target=\"_blank\" href=https://colab.research.google.com/notebooks/data_table.ipynb>data table notebook</a>'\n",
              "            + ' to learn more about interactive tables.';\n",
              "          element.innerHTML = '';\n",
              "          dataTable['output_type'] = 'display_data';\n",
              "          await google.colab.output.renderOutput(dataTable, element);\n",
              "          const docLink = document.createElement('div');\n",
              "          docLink.innerHTML = docLinkHtml;\n",
              "          element.appendChild(docLink);\n",
              "        }\n",
              "      </script>\n",
              "    </div>\n",
              "  </div>\n",
              "  "
            ]
          },
          "metadata": {},
          "execution_count": 9
        }
      ]
    },
    {
      "cell_type": "code",
      "source": [
        "df.hist(\"revenue\")\n",
        "plt.show()"
      ],
      "metadata": {
        "colab": {
          "base_uri": "https://localhost:8080/",
          "height": 294
        },
        "id": "07a9MkfgUbln",
        "outputId": "c0892e3b-3fe4-4879-c501-20e1c57f3752"
      },
      "execution_count": 10,
      "outputs": [
        {
          "output_type": "display_data",
          "data": {
            "text/plain": [
              "<Figure size 432x288 with 1 Axes>"
            ],
            "image/png": "[encoded data removed]"
          },
          "metadata": {}
        }
      ]
    },
    {
      "cell_type": "markdown",
      "source": [
        "5 лучших игр по доходу являются: \n",
        "* Honor of Kings / Arena of Valo\n",
        "* Monster Strike\n",
        "* PUBG Mobile\n",
        "* Puzzle & Dragons\n",
        "* Clash of Clans\n",
        "\n",
        "Так же на гистограмме мы можем увидеть, что большенство игр имеет доход менее 5000000000$"
      ],
      "metadata": {
        "id": "ZARSkwV3VJs-"
      }
    },
    {
      "cell_type": "markdown",
      "source": [
        "**Стоимость каждого жанра**"
      ],
      "metadata": {
        "id": "ghe3hZGTaJbQ"
      }
    },
    {
      "cell_type": "code",
      "source": [
        "df.groupby(\"genre\").sum().sort_values(by = \"revenue\", ascending=False)"
      ],
      "metadata": {
        "id": "PrdKOYEWaL6q"
      },
      "execution_count": null,
      "outputs": []
    },
    {
      "cell_type": "markdown",
      "source": [
        "**Прибыль по годам**"
      ],
      "metadata": {
        "id": "54Tbwe2adNtr"
      }
    },
    {
      "cell_type": "markdown",
      "source": [
        "Создадим новую колонку `initial_release_year` в которой будет указан Год релиза каждый игры."
      ],
      "metadata": {
        "id": "0hO1Pjt8dVrf"
      }
    },
    {
      "cell_type": "code",
      "source": [
        "df[\"initial_release_year\"] = df[\"initial_release\"].dt.to_period(\"Y\")"
      ],
      "metadata": {
        "id": "16cTizk8dGMB"
      },
      "execution_count": 40,
      "outputs": []
    },
    {
      "cell_type": "code",
      "source": [
        "df[\"initial_release_year\"]"
      ],
      "metadata": {
        "colab": {
          "base_uri": "https://localhost:8080/"
        },
        "id": "SGBUATLQdLgZ",
        "outputId": "a34aba8f-7481-4247-e4c0-8aa9753e2e47"
      },
      "execution_count": 41,
      "outputs": [
        {
          "output_type": "execute_result",
          "data": {
            "text/plain": [
              "0      2015\n",
              "1      2013\n",
              "2      2018\n",
              "3      2012\n",
              "4      2012\n",
              "       ... \n",
              "99     2017\n",
              "100    2020\n",
              "101    2015\n",
              "102    2017\n",
              "103    2018\n",
              "Name: initial_release_year, Length: 104, dtype: period[A-DEC]"
            ]
          },
          "metadata": {},
          "execution_count": 41
        }
      ]
    },
    {
      "cell_type": "code",
      "source": [
        "df.groupby(\"initial_release_year\").sum().sort_values(by = \"revenue\", ascending=False)"
      ],
      "metadata": {
        "colab": {
          "base_uri": "https://localhost:8080/",
          "height": 457
        },
        "id": "b_A8IG-Kdmu6",
        "outputId": "4b9325a3-32bf-4f75-f53f-b44e940e088b"
      },
      "execution_count": 42,
      "outputs": [
        {
          "output_type": "execute_result",
          "data": {
            "text/plain": [
              "                          revenue\n",
              "initial_release_year             \n",
              "2015                  36954600000\n",
              "2012                  31318440000\n",
              "2016                  24133510000\n",
              "2018                  19222000000\n",
              "2017                  17065720000\n",
              "2013                  13800000000\n",
              "2014                   9037200000\n",
              "2019                   8845920000\n",
              "2020                   5101590000\n",
              "2021                   1650985000\n",
              "2011                    649000000\n",
              "2010                    400000000"
            ],
            "text/html": [
              "\n",
              "  <div id=\"df-1289966e-a097-4bcc-8ddc-2a7366d2249e\">\n",
              "    <div class=\"colab-df-container\">\n",
              "      <div>\n",
              "<style scoped>\n",
              "    .dataframe tbody tr th:only-of-type {\n",
              "        vertical-align: middle;\n",
              "    }\n",
              "\n",
              "    .dataframe tbody tr th {\n",
              "        vertical-align: top;\n",
              "    }\n",
              "\n",
              "    .dataframe thead th {\n",
              "        text-align: right;\n",
              "    }\n",
              "</style>\n",
              "<table border=\"1\" class=\"dataframe\">\n",
              "  <thead>\n",
              "    <tr style=\"text-align: right;\">\n",
              "      <th></th>\n",
              "      <th>revenue</th>\n",
              "    </tr>\n",
              "    <tr>\n",
              "      <th>initial_release_year</th>\n",
              "      <th></th>\n",
              "    </tr>\n",
              "  </thead>\n",
              "  <tbody>\n",
              "    <tr>\n",
              "      <th>2015</th>\n",
              "      <td>36954600000</td>\n",
              "    </tr>\n",
              "    <tr>\n",
              "      <th>2012</th>\n",
              "      <td>31318440000</td>\n",
              "    </tr>\n",
              "    <tr>\n",
              "      <th>2016</th>\n",
              "      <td>24133510000</td>\n",
              "    </tr>\n",
              "    <tr>\n",
              "      <th>2018</th>\n",
              "      <td>19222000000</td>\n",
              "    </tr>\n",
              "    <tr>\n",
              "      <th>2017</th>\n",
              "      <td>17065720000</td>\n",
              "    </tr>\n",
              "    <tr>\n",
              "      <th>2013</th>\n",
              "      <td>13800000000</td>\n",
              "    </tr>\n",
              "    <tr>\n",
              "      <th>2014</th>\n",
              "      <td>9037200000</td>\n",
              "    </tr>\n",
              "    <tr>\n",
              "      <th>2019</th>\n",
              "      <td>8845920000</td>\n",
              "    </tr>\n",
              "    <tr>\n",
              "      <th>2020</th>\n",
              "      <td>5101590000</td>\n",
              "    </tr>\n",
              "    <tr>\n",
              "      <th>2021</th>\n",
              "      <td>1650985000</td>\n",
              "    </tr>\n",
              "    <tr>\n",
              "      <th>2011</th>\n",
              "      <td>649000000</td>\n",
              "    </tr>\n",
              "    <tr>\n",
              "      <th>2010</th>\n",
              "      <td>400000000</td>\n",
              "    </tr>\n",
              "  </tbody>\n",
              "</table>\n",
              "</div>\n",
              "      <button class=\"colab-df-convert\" onclick=\"convertToInteractive('df-1289966e-a097-4bcc-8ddc-2a7366d2249e')\"\n",
              "              title=\"Convert this dataframe to an interactive table.\"\n",
              "              style=\"display:none;\">\n",
              "        \n",
              "  <svg xmlns=\"http://www.w3.org/2000/svg\" height=\"24px\"viewBox=\"0 0 24 24\"\n",
              "       width=\"24px\">\n",
              "    <path d=\"M0 0h24v24H0V0z\" fill=\"none\"/>\n",
              "    <path d=\"M18.56 5.44l.94 2.06.94-2.06 2.06-.94-2.06-.94-.94-2.06-.94 2.06-2.06.94zm-11 1L8.5 8.5l.94-2.06 2.06-.94-2.06-.94L8.5 2.5l-.94 2.06-2.06.94zm10 10l.94 2.06.94-2.06 2.06-.94-2.06-.94-.94-2.06-.94 2.06-2.06.94z\"/><path d=\"M17.41 7.96l-1.37-1.37c-.4-.4-.92-.59-1.43-.59-.52 0-1.04.2-1.43.59L10.3 9.45l-7.72 7.72c-.78.78-.78 2.05 0 2.83L4 21.41c.39.39.9.59 1.41.59.51 0 1.02-.2 1.41-.59l7.78-7.78 2.81-2.81c.8-.78.8-2.07 0-2.86zM5.41 20L4 18.59l7.72-7.72 1.47 1.35L5.41 20z\"/>\n",
              "  </svg>\n",
              "      </button>\n",
              "      \n",
              "  <style>\n",
              "    .colab-df-container {\n",
              "      display:flex;\n",
              "      flex-wrap:wrap;\n",
              "      gap: 12px;\n",
              "    }\n",
              "\n",
              "    .colab-df-convert {\n",
              "      background-color: #E8F0FE;\n",
              "      border: none;\n",
              "      border-radius: 50%;\n",
              "      cursor: pointer;\n",
              "      display: none;\n",
              "      fill: #1967D2;\n",
              "      height: 32px;\n",
              "      padding: 0 0 0 0;\n",
              "      width: 32px;\n",
              "    }\n",
              "\n",
              "    .colab-df-convert:hover {\n",
              "      background-color: #E2EBFA;\n",
              "      box-shadow: 0px 1px 2px rgba(60, 64, 67, 0.3), 0px 1px 3px 1px rgba(60, 64, 67, 0.15);\n",
              "      fill: #174EA6;\n",
              "    }\n",
              "\n",
              "    [theme=dark] .colab-df-convert {\n",
              "      background-color: #3B4455;\n",
              "      fill: #D2E3FC;\n",
              "    }\n",
              "\n",
              "    [theme=dark] .colab-df-convert:hover {\n",
              "      background-color: #434B5C;\n",
              "      box-shadow: 0px 1px 3px 1px rgba(0, 0, 0, 0.15);\n",
              "      filter: drop-shadow(0px 1px 2px rgba(0, 0, 0, 0.3));\n",
              "      fill: #FFFFFF;\n",
              "    }\n",
              "  </style>\n",
              "\n",
              "      <script>\n",
              "        const buttonEl =\n",
              "          document.querySelector('#df-1289966e-a097-4bcc-8ddc-2a7366d2249e button.colab-df-convert');\n",
              "        buttonEl.style.display =\n",
              "          google.colab.kernel.accessAllowed ? 'block' : 'none';\n",
              "\n",
              "        async function convertToInteractive(key) {\n",
              "          const element = document.querySelector('#df-1289966e-a097-4bcc-8ddc-2a7366d2249e');\n",
              "          const dataTable =\n",
              "            await google.colab.kernel.invokeFunction('convertToInteractive',\n",
              "                                                     [key], {});\n",
              "          if (!dataTable) return;\n",
              "\n",
              "          const docLinkHtml = 'Like what you see? Visit the ' +\n",
              "            '<a target=\"_blank\" href=https://colab.research.google.com/notebooks/data_table.ipynb>data table notebook</a>'\n",
              "            + ' to learn more about interactive tables.';\n",
              "          element.innerHTML = '';\n",
              "          dataTable['output_type'] = 'display_data';\n",
              "          await google.colab.output.renderOutput(dataTable, element);\n",
              "          const docLink = document.createElement('div');\n",
              "          docLink.innerHTML = docLinkHtml;\n",
              "          element.appendChild(docLink);\n",
              "        }\n",
              "      </script>\n",
              "    </div>\n",
              "  </div>\n",
              "  "
            ]
          },
          "metadata": {},
          "execution_count": 42
        }
      ]
    },
    {
      "cell_type": "markdown",
      "source": [
        "Мы видим, что в 2015 и 2012 являются самыми прибыльными для компаний.\n"
      ],
      "metadata": {
        "id": "8hTDmcOedrtn"
      }
    },
    {
      "cell_type": "markdown",
      "source": [
        "**Год релизов**"
      ],
      "metadata": {
        "id": "r5qXHTzefaKC"
      }
    },
    {
      "cell_type": "markdown",
      "source": [
        "Давайте посмотрим в каком году было больше всего релизов:"
      ],
      "metadata": {
        "id": "7Ou2Jo79ffcU"
      }
    },
    {
      "cell_type": "code",
      "source": [
        "df[\"initial_release_year\"].value_counts()"
      ],
      "metadata": {
        "colab": {
          "base_uri": "https://localhost:8080/"
        },
        "id": "oXZvwUNnfoUk",
        "outputId": "c7feefe8-b565-4786-8543-1373b20769e8"
      },
      "execution_count": 47,
      "outputs": [
        {
          "output_type": "execute_result",
          "data": {
            "text/plain": [
              "2016    16\n",
              "2015    15\n",
              "2018    15\n",
              "2017    14\n",
              "2019    10\n",
              "2014     9\n",
              "2012     8\n",
              "2020     8\n",
              "2013     3\n",
              "2021     3\n",
              "2011     2\n",
              "2010     1\n",
              "Freq: A-DEC, Name: initial_release_year, dtype: int64"
            ]
          },
          "metadata": {},
          "execution_count": 47
        }
      ]
    },
    {
      "cell_type": "markdown",
      "source": [
        "В 2016 году было выпущено больше всего игр"
      ],
      "metadata": {
        "id": "tOyrC5crgMXe"
      }
    }
  ]
}